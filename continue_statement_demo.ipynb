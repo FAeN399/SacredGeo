{
 "cells": [
  {
   "cell_type": "markdown",
   "id": "d93bbc02",
   "metadata": {},
   "source": [
    "# Python 'continue' Statement Demonstration\n",
    "\n",
    "This notebook demonstrates how to use the 'continue' statement in Python to skip iterations in loops based on certain conditions."
   ]
  },
  {
   "cell_type": "markdown",
   "id": "87eab243",
   "metadata": {},
   "source": [
    "## Import Required Libraries\n",
    "\n",
    "Import any necessary libraries for our examples."
   ]
  },
  {
   "cell_type": "code",
   "execution_count": null,
   "id": "c4fbcf1c",
   "metadata": {},
   "outputs": [],
   "source": [
    "import numpy as np\n",
    "import pandas as pd"
   ]
  },
  {
   "cell_type": "markdown",
   "id": "87bfbe08",
   "metadata": {},
   "source": [
    "## Define a Function to Continue a Process\n",
    "\n",
    "Here, we'll create a function that processes a list of numbers, skipping negative values using the `continue` statement."
   ]
  },
  {
   "cell_type": "code",
   "execution_count": null,
   "id": "ce1a7f15",
   "metadata": {},
   "outputs": [],
   "source": [
    "def process_positive_numbers(numbers):\n",
    "    \"\"\"\n",
    "    Process only positive numbers in a list.\n",
    "    \n",
    "    Args:\n",
    "        numbers (list): A list of numbers\n",
    "        \n",
    "    Returns:\n",
    "        list: Squares of only the positive numbers\n",
    "    \"\"\"\n",
    "    result = []\n",
    "    for num in numbers:\n",
    "        # Skip negative numbers\n",
    "        if num < 0:\n",
    "            print(f\"Skipping negative number: {num}\")\n",
    "            continue\n",
    "            \n",
    "        # This code will not execute for negative numbers\n",
    "        processed = num ** 2\n",
    "        result.append(processed)\n",
    "        print(f\"Processed {num} -> {processed}\")\n",
    "        \n",
    "    return result\n",
    "\n",
    "# Test the function\n",
    "test_numbers = [5, -3, 7, 0, -12, 9]\n",
    "processed_numbers = process_positive_numbers(test_numbers)\n",
    "print(\"\\nFinal result:\", processed_numbers)"
   ]
  },
  {
   "cell_type": "markdown",
   "id": "14f2ba91",
   "metadata": {},
   "source": [
    "## Implement a Loop with a Continue Statement\n",
    "\n",
    "Let's demonstrate using the `continue` statement in different types of loops to skip iterations based on various conditions."
   ]
  },
  {
   "cell_type": "code",
   "execution_count": null,
   "id": "74235f41",
   "metadata": {},
   "outputs": [],
   "source": [
    "# Example 1: Skip even numbers in a for loop\n",
    "print(\"Example 1: Processing only odd numbers\")\n",
    "for i in range(10):\n",
    "    if i % 2 == 0:  # If number is even\n",
    "        continue    # Skip the rest of this iteration\n",
    "    print(f\"Processing odd number: {i}\")\n",
    "\n",
    "# Example 2: Skip non-prime numbers \n",
    "print(\"\\nExample 2: Processing only prime numbers\")\n",
    "for num in range(2, 20):\n",
    "    # Check if num is prime\n",
    "    for i in range(2, int(num**0.5) + 1):\n",
    "        if num % i == 0:\n",
    "            # Not a prime, so skip\n",
    "            print(f\"{num} is not a prime - skipping\")\n",
    "            break\n",
    "    else:\n",
    "        # This only executes if the inner loop didn't break (i.e., the number is prime)\n",
    "        print(f\"{num} is a prime number\")\n",
    "\n",
    "# Example 3: Using continue in a while loop\n",
    "print(\"\\nExample 3: While loop with continue\")\n",
    "i = 0\n",
    "while i < 10:\n",
    "    i += 1\n",
    "    if i % 3 == 0:  # Skip multiples of 3\n",
    "        print(f\"Skipping {i} (multiple of 3)\")\n",
    "        continue\n",
    "    print(f\"Processing {i}\")"
   ]
  },
  {
   "cell_type": "markdown",
   "id": "8515e656",
   "metadata": {},
   "source": [
    "## Demonstrate Continue in Nested Loops\n",
    "\n",
    "The `continue` statement affects only the loop in which it is placed. Here we'll demonstrate how it behaves in nested loops."
   ]
  },
  {
   "cell_type": "code",
   "execution_count": null,
   "id": "e74bc616",
   "metadata": {},
   "outputs": [],
   "source": [
    "# Create a simple 5x5 matrix\n",
    "matrix = np.array([\n",
    "    [1, 2, 3, 4, 5],\n",
    "    [6, 7, 8, 9, 10],\n",
    "    [11, 12, 13, 14, 15],\n",
    "    [16, 17, 18, 19, 20],\n",
    "    [21, 22, 23, 24, 25]\n",
    "])\n",
    "\n",
    "print(\"Original Matrix:\")\n",
    "print(matrix)\n",
    "print(\"\\nProcessing matrix with nested loops and continue:\")\n",
    "\n",
    "for i in range(matrix.shape[0]):  # Rows\n",
    "    print(f\"\\nRow {i}:\")\n",
    "    \n",
    "    if i % 2 == 0:  # For even-indexed rows\n",
    "        print(f\"  Processing all elements in row {i}\")\n",
    "        for j in range(matrix.shape[1]):  # Columns\n",
    "            value = matrix[i, j]\n",
    "            print(f\"  Processing matrix[{i},{j}] = {value}\")\n",
    "    else:  # For odd-indexed rows\n",
    "        print(f\"  In odd row {i}, skipping elements divisible by 3\")\n",
    "        for j in range(matrix.shape[1]):  # Columns\n",
    "            value = matrix[i, j]\n",
    "            \n",
    "            # Skip values divisible by 3 in odd-indexed rows\n",
    "            if value % 3 == 0:\n",
    "                print(f\"  Skipping matrix[{i},{j}] = {value} (divisible by 3)\")\n",
    "                continue\n",
    "                \n",
    "            print(f\"  Processing matrix[{i},{j}] = {value}\")"
   ]
  },
  {
   "cell_type": "markdown",
   "id": "c669a1f1",
   "metadata": {},
   "source": [
    "## Summary\n",
    "\n",
    "In this notebook, we've demonstrated the use of the `continue` statement in Python:\n",
    "\n",
    "1. Basic usage in functions to skip certain iterations\n",
    "2. Usage in different types of loops (for and while)\n",
    "3. Behavior in nested loops\n",
    "\n",
    "The `continue` statement is useful when you want to:\n",
    "- Skip certain iterations without breaking out of the loop entirely\n",
    "- Make your code more readable by avoiding deeply nested if-else structures\n",
    "- Efficiently handle exceptions or special cases within a loop\n",
    "\n",
    "Remember that `continue` only affects the immediate loop it's in, so in nested loops, it only skips the current iteration of the innermost loop containing the continue statement."
   ]
  },
  {
   "cell_type": "markdown",
   "id": "f912c063",
   "metadata": {},
   "source": [
    "# Python Continue Statement Demonstration\n",
    "\n",
    "This notebook demonstrates how to use the `continue` statement in Python to skip specific iterations in loops."
   ]
  },
  {
   "cell_type": "markdown",
   "id": "f385814e",
   "metadata": {},
   "source": [
    "## Import Required Libraries\n",
    "\n",
    "We'll import a few libraries to help with our demonstrations."
   ]
  },
  {
   "cell_type": "code",
   "execution_count": null,
   "id": "9b092f63",
   "metadata": {},
   "outputs": [],
   "source": [
    "import random\n",
    "import math\n",
    "import time"
   ]
  },
  {
   "cell_type": "markdown",
   "id": "35c19bb1",
   "metadata": {},
   "source": [
    "## Define a Function to Continue a Process\n",
    "\n",
    "Let's create a function that processes a list of numbers but skips specific values using the `continue` statement."
   ]
  },
  {
   "cell_type": "code",
   "execution_count": null,
   "id": "6aff74f0",
   "metadata": {},
   "outputs": [],
   "source": [
    "def process_numbers(numbers, skip_condition):\n",
    "    \"\"\"\n",
    "    Process a list of numbers, skipping those that meet a specific condition.\n",
    "    \n",
    "    Parameters:\n",
    "    - numbers: List of numbers to process\n",
    "    - skip_condition: Function that returns True if a number should be skipped\n",
    "    \n",
    "    Returns:\n",
    "    - List of processed numbers (those that weren't skipped)\n",
    "    \"\"\"\n",
    "    results = []\n",
    "    \n",
    "    for num in numbers:\n",
    "        # Check if we should skip this number\n",
    "        if skip_condition(num):\n",
    "            print(f\"Skipping {num}\")\n",
    "            continue\n",
    "        \n",
    "        # Process the number (in this case, square it)\n",
    "        processed = num ** 2\n",
    "        results.append(processed)\n",
    "        print(f\"Processed {num} -> {processed}\")\n",
    "    \n",
    "    return results\n",
    "\n",
    "# Example usage\n",
    "numbers = [1, 2, 3, 4, 5, 6, 7, 8, 9, 10]\n",
    "\n",
    "# Skip even numbers\n",
    "skip_evens = lambda x: x % 2 == 0\n",
    "results = process_numbers(numbers, skip_evens)\n",
    "\n",
    "print(\"\\nFinal results:\", results)"
   ]
  },
  {
   "cell_type": "markdown",
   "id": "aeea9d68",
   "metadata": {},
   "source": [
    "## Implement a Loop with a Continue Statement\n",
    "\n",
    "Now let's demonstrate a more practical example where we use `continue` to skip iterations that would cause errors or don't meet certain criteria."
   ]
  },
  {
   "cell_type": "code",
   "execution_count": null,
   "id": "f25d4c68",
   "metadata": {},
   "outputs": [],
   "source": [
    "# Generate some sample data with potential division by zero\n",
    "data = [random.randint(-10, 10) for _ in range(20)]\n",
    "print(\"Original data:\", data)\n",
    "\n",
    "results = []\n",
    "errors = 0\n",
    "\n",
    "for value in data:\n",
    "    # Skip zeros (would cause division by zero)\n",
    "    if value == 0:\n",
    "        print(f\"Skipping value {value} (division by zero)\")\n",
    "        errors += 1\n",
    "        continue\n",
    "    \n",
    "    # Skip negative numbers\n",
    "    if value < 0:\n",
    "        print(f\"Skipping negative value {value}\")\n",
    "        errors += 1\n",
    "        continue\n",
    "    \n",
    "    # Process valid values (compute square root)\n",
    "    result = math.sqrt(value)\n",
    "    results.append(result)\n",
    "    print(f\"Processed {value} -> {result:.2f}\")\n",
    "\n",
    "print(f\"\\nProcessed {len(results)} values successfully\")\n",
    "print(f\"Skipped {errors} values\")\n",
    "print(f\"Results: {[round(r, 2) for r in results]}\")"
   ]
  },
  {
   "cell_type": "markdown",
   "id": "5ab189b1",
   "metadata": {},
   "source": [
    "## Demonstrate Continue in Nested Loops\n",
    "\n",
    "The `continue` statement affects only the innermost loop in which it is placed. Let's see how it works in nested loops."
   ]
  },
  {
   "cell_type": "code",
   "execution_count": null,
   "id": "4060d4fc",
   "metadata": {},
   "outputs": [],
   "source": [
    "def find_factors_with_skip(numbers, skip_multiples_of=None):\n",
    "    \"\"\"\n",
    "    Find factors of each number in a list, skipping multiples of a specific value.\n",
    "    \n",
    "    Parameters:\n",
    "    - numbers: List of numbers to find factors for\n",
    "    - skip_multiples_of: Skip finding factors for numbers that are multiples of this value\n",
    "    \"\"\"\n",
    "    all_results = {}\n",
    "    \n",
    "    for num in numbers:\n",
    "        print(f\"\\nAnalyzing number: {num}\")\n",
    "        \n",
    "        # Skip if the number is a multiple of skip_multiples_of\n",
    "        if skip_multiples_of and num % skip_multiples_of == 0:\n",
    "            print(f\"  Skipping {num} (multiple of {skip_multiples_of})\")\n",
    "            continue\n",
    "        \n",
    "        factors = []\n",
    "        \n",
    "        # Find factors\n",
    "        for i in range(1, num + 1):\n",
    "            # Skip even potential factors for demonstration\n",
    "            if i % 2 == 0:\n",
    "                # This continue only affects the inner loop\n",
    "                continue\n",
    "            \n",
    "            # Check if i is a factor of num\n",
    "            if num % i == 0:\n",
    "                factors.append(i)\n",
    "                \n",
    "        all_results[num] = factors\n",
    "        print(f\"  Factors of {num} (skipping even numbers): {factors}\")\n",
    "    \n",
    "    return all_results\n",
    "\n",
    "# Test with numbers 1 through 15, skipping multiples of 5\n",
    "numbers = list(range(1, 16))\n",
    "results = find_factors_with_skip(numbers, skip_multiples_of=5)\n",
    "\n",
    "print(\"\\nSummary of results:\")\n",
    "for num, factors in results.items():\n",
    "    print(f\"Number {num} has odd factors: {factors}\")"
   ]
  },
  {
   "cell_type": "markdown",
   "id": "713d3934",
   "metadata": {},
   "source": [
    "## Bonus: Continue Statement with while Loops\n",
    "\n",
    "While the `continue` statement is often used with `for` loops, it can also be used with `while` loops. Let's see an example."
   ]
  },
  {
   "cell_type": "code",
   "execution_count": null,
   "id": "9145ae80",
   "metadata": {},
   "outputs": [],
   "source": [
    "def simulate_process_with_continue():\n",
    "    \"\"\"\n",
    "    Simulate a process that occasionally needs to be retried or skipped.\n",
    "    \"\"\"\n",
    "    max_attempts = 10\n",
    "    successful_operations = 0\n",
    "    attempt = 0\n",
    "    \n",
    "    while attempt < max_attempts:\n",
    "        attempt += 1\n",
    "        print(f\"\\nAttempt {attempt}:\")\n",
    "        \n",
    "        # Simulate a random event (0 = error, 1 = need to skip, 2+ = success)\n",
    "        event = random.randint(0, 3)\n",
    "        \n",
    "        # Simulate a process that might fail\n",
    "        if event == 0:\n",
    "            print(\"  Error occurred! Moving to next attempt.\")\n",
    "            # No continue needed here, we just move to the next iteration\n",
    "        \n",
    "        # Simulate a condition that requires skipping additional processing\n",
    "        elif event == 1:\n",
    "            print(\"  Conditions not suitable for processing. Skipping this iteration.\")\n",
    "            # Using continue to skip the processing code below\n",
    "            continue\n",
    "        \n",
    "        else:\n",
    "            # Process was successful\n",
    "            successful_operations += 1\n",
    "            print(\"  Success! Processing data...\")\n",
    "            \n",
    "            # Simulate some time-consuming operation\n",
    "            time.sleep(0.2)\n",
    "            print(f\"  Completed operation {successful_operations}\")\n",
    "    \n",
    "    print(f\"\\nProcess complete. {successful_operations} successful operations out of {max_attempts} attempts.\")\n",
    "\n",
    "# Run the simulation\n",
    "simulate_process_with_continue()"
   ]
  },
  {
   "cell_type": "markdown",
   "id": "b6be2df5",
   "metadata": {},
   "source": [
    "## Conclusion\n",
    "\n",
    "The `continue` statement is a powerful tool in Python that allows you to:\n",
    "\n",
    "1. Skip specific iterations in a loop based on conditions\n",
    "2. Improve code readability by avoiding deeply nested if/else structures\n",
    "3. Handle special cases efficiently within loops\n",
    "\n",
    "Use it when you want to skip the current iteration and move to the next one without executing the remaining code in the loop body."
   ]
  }
 ],
 "metadata": {
  "language_info": {
   "name": "python"
  }
 },
 "nbformat": 4,
 "nbformat_minor": 5
}
